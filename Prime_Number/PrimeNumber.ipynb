import math

#check Prime Number using recursive function
def checkPrime(i,num,sqrt_num):
    #print(i, num, sqrt_num)
    if i <= sqrt_num:
        if(num % i == 0):
            #print("i not Prime = ",i)
            return False
        else:
            i+=1
            return checkPrime(i,num,sqrt_num)
    else:
        #print("i Prime=",i)
        return True
    
#print Prime Number from 1 to n range        
def PrimeNumber(num):
    flag=1
    for i in range(2,num):
        flag = checkPrime(2,i, math.ceil(math.sqrt(i)))
        
        if flag != False:
            print(i, end=" ")
 
#Enter n range 
num = int(input("Enter any positive number: "))
PrimeNumber(num)
