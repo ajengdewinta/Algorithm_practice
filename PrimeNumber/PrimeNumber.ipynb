{
 "cells": [
  {
   "cell_type": "markdown",
   "metadata": {},
   "source": [
    "# Prime Number to N range"
   ]
  },
  {
   "cell_type": "markdown",
   "metadata": {},
   "source": [
    "The problem to be solved this time is to print prime numbers from 1 to n. To check whether the number is prime, we use a recursive function."
   ]
  },
  {
   "cell_type": "code",
   "execution_count": 1,
   "metadata": {},
   "outputs": [],
   "source": [
    "#import function\n",
    "import math"
   ]
  },
  {
   "cell_type": "markdown",
   "metadata": {},
   "source": [
    "First, we define a recursive function to perform a prime number check. In this function, the parameters needed are the initial limit for prime numbers, the number to be checked, and the square root value of the number to be checked. The square root of the number to be checked serves for recursive function calls."
   ]
  },
  {
   "cell_type": "code",
   "execution_count": 2,
   "metadata": {},
   "outputs": [],
   "source": [
    "#check Prime Number using recursive function\n",
    "def checkPrime(i,num,sqrt_num):\n",
    "    #print(i, num, sqrt_num)\n",
    "    if num == 2:\n",
    "        return True\n",
    "    elif i <= sqrt_num:\n",
    "        if(num % i == 0):\n",
    "            #print(\"i not Prime = \",i)\n",
    "            return False\n",
    "        else:\n",
    "            i+=1\n",
    "            return checkPrime(i,num,sqrt_num)\n",
    "    else:\n",
    "        #print(\"i Prime=\",i)\n",
    "        return True   "
   ]
  },
  {
   "cell_type": "markdown",
   "metadata": {},
   "source": [
    "We define a function to print prime numbers up to N, using a for loop from 2 to N. The value of N is obtained from user input, which is passed into the PrimeNumber() function. Numbers between 2 and N will be checked to see whether they are prime numbers. By calling the CheckPrime() function, if the return of the CheckPrime() function is True, then the number is a prime number, then the number will be printed, and vice versa."
   ]
  },
  {
   "cell_type": "code",
   "execution_count": 3,
   "metadata": {},
   "outputs": [],
   "source": [
    "#print Prime Number from 1 to n range        \n",
    "def PrimeNumber(num):\n",
    "    flag=1\n",
    "    for i in range(2,num):\n",
    "        flag = checkPrime(2,i, math.ceil(math.sqrt(i)))\n",
    "        \n",
    "        if flag != False:\n",
    "            print(i, end=\" \")"
   ]
  },
  {
   "cell_type": "code",
   "execution_count": 4,
   "metadata": {},
   "outputs": [
    {
     "name": "stdout",
     "output_type": "stream",
     "text": [
      "Enter any positive number: 20\n",
      "2 3 5 7 11 13 17 19 "
     ]
    }
   ],
   "source": [
    "#Enter n range \n",
    "num = int(input(\"Enter any positive number: \"))\n",
    "PrimeNumber(num)"
   ]
  }
 ],
 "metadata": {
  "kernelspec": {
   "display_name": "Python 3",
   "language": "python",
   "name": "python3"
  },
  "language_info": {
   "codemirror_mode": {
    "name": "ipython",
    "version": 3
   },
   "file_extension": ".py",
   "mimetype": "text/x-python",
   "name": "python",
   "nbconvert_exporter": "python",
   "pygments_lexer": "ipython3",
   "version": "3.7.7"
  }
 },
 "nbformat": 4,
 "nbformat_minor": 4
}
